{
 "cells": [
  {
   "cell_type": "code",
   "execution_count": 68,
   "metadata": {},
   "outputs": [],
   "source": [
    "#! pip install -r requirements.txt"
   ]
  },
  {
   "cell_type": "code",
   "execution_count": 69,
   "metadata": {},
   "outputs": [],
   "source": [
    "import pandas as pd\n",
    "from requests_oauthlib import OAuth1Session\n",
    "import json\n",
    "import yaml"
   ]
  },
  {
   "cell_type": "code",
   "execution_count": 70,
   "metadata": {},
   "outputs": [],
   "source": [
    "\"\"\"\n",
    "settings.ymlに以下のように認証情報を設定\n",
    "\n",
    "===\n",
    "twitter_credentials:\n",
    "  client_key : XXX\n",
    "  client_secret : XXX\n",
    "  access_token : XXXX\n",
    "  access_token_secret : XXXX\n",
    "===\n",
    "\"\"\"\n",
    "\n",
    "f = open(\"settings.yml\", \"r\")\n",
    "settings = yaml.load(f)\n",
    "credentials = settings['twitter_credentials']\n"
   ]
  },
  {
   "cell_type": "code",
   "execution_count": 71,
   "metadata": {},
   "outputs": [],
   "source": [
    "SEARCH_TWEETS_URL = 'https://api.twitter.com/1.1/search/tweets.json'\n",
    "RATE_LIMIT_STATUS_URL = \"https://api.twitter.com/1.1/application/rate_limit_status.json\"\n",
    "SEARCH_LIMIT_COUNT = 100\n"
   ]
  },
  {
   "cell_type": "code",
   "execution_count": 72,
   "metadata": {},
   "outputs": [],
   "source": [
    "params = {'q' : '大谷', 'count' : 5}"
   ]
  },
  {
   "cell_type": "code",
   "execution_count": 89,
   "metadata": {},
   "outputs": [],
   "source": [
    "url = \"https://api.twitter.com/1.1/search/tweets.json\"\n",
    "twitter = OAuth1Session(credentials['client_key'],\n",
    "                        credentials['client_secret'],\n",
    "                        credentials['access_token'],\n",
    "                        credentials['access_token_secret']\n",
    "                       )"
   ]
  },
  {
   "cell_type": "code",
   "execution_count": 101,
   "metadata": {},
   "outputs": [
    {
     "name": "stdout",
     "output_type": "stream",
     "text": [
      "remain limit: 165\n",
      "remain limit: 160\n"
     ]
    }
   ],
   "source": [
    "from time import sleep\n",
    " \n",
    "columns = ['timestamp', 'username', 'tweet', 'favorite_count']\n",
    "df = pd.DataFrame(columns=columns)\n",
    "\n",
    "max_id = -1\n",
    "MAX_LOOP_COUNT = 10\n",
    "\n",
    "for i in range(MAX_LOOP_COUNT):\n",
    "    if max_id != -1:\n",
    "        params['max_id']  = int(max_id) - 1  \n",
    "    req = twitter.get(url, params = params)\n",
    "    \n",
    "    # レートリミットの残りを定期表示\n",
    "    limit = int(req.headers['x-rate-limit-remaining'])\n",
    "    if limit % 5 == 0:\n",
    "        print(\"remain limit: {}\".format(limit))\n",
    "    \n",
    "    if req.status_code == 200:\n",
    "        search_timeline = json.loads(req.text)\n",
    "        \n",
    "        if search_timeline['statuses'] == []:\n",
    "            break\n",
    "        \n",
    "        for tweet in search_timeline['statuses']:\n",
    "            created_at = tweet['created_at']\n",
    "            username = tweet['user']['name']\n",
    "            text = tweet['text']\n",
    "            like = tweet['favorite_count']\n",
    "            \n",
    "            append_list = [created_at, username, text, like]\n",
    "            \n",
    "            df_next = pd.DataFrame(\n",
    "                [append_list],\n",
    "                columns=columns\n",
    "            )\n",
    "            \n",
    "            df = df.append(df_next)\n",
    "        max_id = search_timeline['statuses'][-1]['id']\n",
    "    \n",
    "    else: \n",
    "        reset = req.headers['x-rate-limit-reset'] #リクエスト叶残数リセットまでの時間(UTC)\n",
    "        sec = int(req.headers['X-Rate-Limit-Reset']) - time.mktime(datetime.datetime.now().timetuple()) #UTCを秒数に変換\n",
    "\n",
    "        print (\"\"\"\n",
    "        reset utc time: {}\n",
    "        reset sec: {}\n",
    "        \"\"\".format(reset, sec))\n",
    "        sleep(sec)"
   ]
  },
  {
   "cell_type": "code",
   "execution_count": 103,
   "metadata": {
    "scrolled": false
   },
   "outputs": [],
   "source": [
    "df = df.reset_index(drop=True)"
   ]
  },
  {
   "cell_type": "code",
   "execution_count": null,
   "metadata": {},
   "outputs": [],
   "source": []
  }
 ],
 "metadata": {
  "kernelspec": {
   "display_name": "Python 3",
   "language": "python",
   "name": "python3"
  },
  "language_info": {
   "codemirror_mode": {
    "name": "ipython",
    "version": 3
   },
   "file_extension": ".py",
   "mimetype": "text/x-python",
   "name": "python",
   "nbconvert_exporter": "python",
   "pygments_lexer": "ipython3",
   "version": "3.7.0"
  }
 },
 "nbformat": 4,
 "nbformat_minor": 2
}
